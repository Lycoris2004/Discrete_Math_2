{
 "cells": [
  {
   "cell_type": "markdown",
   "metadata": {},
   "source": [
    "Assignment by Christine Ann Dejito\n",
    "\n",
    "$\\textbf{Programming Assignment}$\n",
    "---\n",
    "1. Using Python Library create generate an example of each of the topics discussed in this jupyter notebook.\n",
    "2. Provide an explanation of each generated graph.\n",
    "3. Push the results to your github account."
   ]
  }
 ],
 "metadata": {
  "kernelspec": {
   "display_name": "base",
   "language": "python",
   "name": "python3"
  },
  "language_info": {
   "codemirror_mode": {
    "name": "ipython",
    "version": 3
   },
   "file_extension": ".py",
   "mimetype": "text/x-python",
   "name": "python",
   "nbconvert_exporter": "python",
   "pygments_lexer": "ipython3",
   "version": "3.11.5"
  }
 },
 "nbformat": 4,
 "nbformat_minor": 2
}
